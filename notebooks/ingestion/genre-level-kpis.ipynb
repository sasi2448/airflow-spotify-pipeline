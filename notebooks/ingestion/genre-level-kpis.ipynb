{
 "cells": [
  {
   "cell_type": "code",
   "execution_count": 34,
   "id": "9c4a3b5a-8926-498d-8b45-e3cb97c00d61",
   "metadata": {},
   "outputs": [],
   "source": [
    "import pandas as pd"
   ]
  },
  {
   "cell_type": "code",
   "execution_count": 35,
   "id": "bd427a76-037a-45a7-a2a5-0b07c4a8b36c",
   "metadata": {},
   "outputs": [],
   "source": [
    "songs = pd.read_csv(\"D:\\\\Projects\\\\airflow_docker\\\\data\\\\songs.csv\")\n",
    "streams = pd.read_csv(\"D:\\\\Projects\\\\airflow_docker\\\\data\\\\streams1.csv\")"
   ]
  },
  {
   "cell_type": "code",
   "execution_count": 36,
   "id": "83c5dfa5-11c7-4fdd-9990-9cf0158a581c",
   "metadata": {},
   "outputs": [],
   "source": [
    "#correct streams datetime to date\n",
    "streams['listen_date'] = pd.to_datetime(streams['listen_time']).dt.date"
   ]
  },
  {
   "cell_type": "code",
   "execution_count": 37,
   "id": "a3f6a76b-f275-4875-9a60-7733b50122c7",
   "metadata": {},
   "outputs": [],
   "source": [
    "#join streams and songs using track_id\n",
    "merged_data = streams.merge(songs, on = 'track_id', how = 'left')"
   ]
  },
  {
   "cell_type": "code",
   "execution_count": 41,
   "id": "5ef300f7-5d0e-4015-ab30-0ac476c32dfc",
   "metadata": {},
   "outputs": [],
   "source": [
    "# Compute each KPI\n",
    "# KPI 1: Daily Genre Listen Count\n",
    "genre_listen_count = merged_data.groupby(['listen_date', 'track_genre']).size().reset_index(name = 'listen_count')"
   ]
  },
  {
   "cell_type": "code",
   "execution_count": 48,
   "id": "b12f8888-4992-49f5-bd46-95d013e91aa0",
   "metadata": {},
   "outputs": [],
   "source": [
    "# KPI 2: Average Listening Duration per Genre per Day\n",
    "merged_data['duration_seconds'] = merged_data['duration_ms']/1000\n",
    "avg_duration  = merged_data.groupby(['listen_date', 'track_genre'])['duration_seconds'].mean().reset_index(name = 'average_duration')"
   ]
  },
  {
   "cell_type": "code",
   "execution_count": 57,
   "id": "126b09d3-d977-4902-9a3e-4a01de2ffe2b",
   "metadata": {},
   "outputs": [],
   "source": [
    "# KPI 3: Daily Genre Popularity Index\n",
    "total_listens = merged_data.groupby('listen_date').size().reset_index(name = 'total_listens')\n",
    "genre_listen_count = genre_listen_count.merge(total_listens, on = 'listen_date', how = 'left')\n",
    "genre_listen_count['popularity_index'] = genre_listen_count['listen_count']/ genre_listen_count['total_listens']"
   ]
  },
  {
   "cell_type": "code",
   "execution_count": 71,
   "id": "4b7c0056-1c3f-4714-81df-1bd5957f0b08",
   "metadata": {},
   "outputs": [],
   "source": [
    "# KPI 4: Most Popular Track per Genre per Day\n",
    "most_popular_track = merged_data.groupby(['listen_date', 'track_genre', 'track_id']).size().reset_index(name='track_count')\n",
    "most_popular_track = most_popular_track.sort_values(['listen_date', 'track_genre', 'track_id'], ascending= [True,True,False])\n",
    "most_popular_track = most_popular_track.drop_duplicates(subset=['listen_date', 'track_genre'],keep = 'first').rename(columns = {'track_id' : 'most_popular_track_id'})"
   ]
  },
  {
   "cell_type": "code",
   "execution_count": 76,
   "id": "29a57d98-0f0b-4580-b8aa-5a29d18be74e",
   "metadata": {},
   "outputs": [
    {
     "data": {
      "text/html": [
       "<div>\n",
       "<style scoped>\n",
       "    .dataframe tbody tr th:only-of-type {\n",
       "        vertical-align: middle;\n",
       "    }\n",
       "\n",
       "    .dataframe tbody tr th {\n",
       "        vertical-align: top;\n",
       "    }\n",
       "\n",
       "    .dataframe thead th {\n",
       "        text-align: right;\n",
       "    }\n",
       "</style>\n",
       "<table border=\"1\" class=\"dataframe\">\n",
       "  <thead>\n",
       "    <tr style=\"text-align: right;\">\n",
       "      <th></th>\n",
       "      <th>listen_date</th>\n",
       "      <th>track_genre</th>\n",
       "      <th>listen_count</th>\n",
       "      <th>popularity_index</th>\n",
       "      <th>average_duration</th>\n",
       "    </tr>\n",
       "  </thead>\n",
       "  <tbody>\n",
       "    <tr>\n",
       "      <th>0</th>\n",
       "      <td>2024-06-25</td>\n",
       "      <td>acoustic</td>\n",
       "      <td>118</td>\n",
       "      <td>0.010400</td>\n",
       "      <td>215.379034</td>\n",
       "    </tr>\n",
       "    <tr>\n",
       "      <th>1</th>\n",
       "      <td>2024-06-25</td>\n",
       "      <td>afrobeat</td>\n",
       "      <td>124</td>\n",
       "      <td>0.010929</td>\n",
       "      <td>248.978960</td>\n",
       "    </tr>\n",
       "    <tr>\n",
       "      <th>2</th>\n",
       "      <td>2024-06-25</td>\n",
       "      <td>alt-rock</td>\n",
       "      <td>119</td>\n",
       "      <td>0.010488</td>\n",
       "      <td>236.073731</td>\n",
       "    </tr>\n",
       "    <tr>\n",
       "      <th>3</th>\n",
       "      <td>2024-06-25</td>\n",
       "      <td>alternative</td>\n",
       "      <td>45</td>\n",
       "      <td>0.003966</td>\n",
       "      <td>202.768200</td>\n",
       "    </tr>\n",
       "    <tr>\n",
       "      <th>4</th>\n",
       "      <td>2024-06-25</td>\n",
       "      <td>ambient</td>\n",
       "      <td>119</td>\n",
       "      <td>0.010488</td>\n",
       "      <td>255.296067</td>\n",
       "    </tr>\n",
       "    <tr>\n",
       "      <th>...</th>\n",
       "      <td>...</td>\n",
       "      <td>...</td>\n",
       "      <td>...</td>\n",
       "      <td>...</td>\n",
       "      <td>...</td>\n",
       "    </tr>\n",
       "    <tr>\n",
       "      <th>108</th>\n",
       "      <td>2024-06-25</td>\n",
       "      <td>techno</td>\n",
       "      <td>46</td>\n",
       "      <td>0.004054</td>\n",
       "      <td>296.812717</td>\n",
       "    </tr>\n",
       "    <tr>\n",
       "      <th>109</th>\n",
       "      <td>2024-06-25</td>\n",
       "      <td>trance</td>\n",
       "      <td>97</td>\n",
       "      <td>0.008549</td>\n",
       "      <td>298.194134</td>\n",
       "    </tr>\n",
       "    <tr>\n",
       "      <th>110</th>\n",
       "      <td>2024-06-25</td>\n",
       "      <td>trip-hop</td>\n",
       "      <td>122</td>\n",
       "      <td>0.010753</td>\n",
       "      <td>263.405664</td>\n",
       "    </tr>\n",
       "    <tr>\n",
       "      <th>111</th>\n",
       "      <td>2024-06-25</td>\n",
       "      <td>turkish</td>\n",
       "      <td>112</td>\n",
       "      <td>0.009871</td>\n",
       "      <td>223.225420</td>\n",
       "    </tr>\n",
       "    <tr>\n",
       "      <th>112</th>\n",
       "      <td>2024-06-25</td>\n",
       "      <td>world-music</td>\n",
       "      <td>104</td>\n",
       "      <td>0.009166</td>\n",
       "      <td>284.155029</td>\n",
       "    </tr>\n",
       "  </tbody>\n",
       "</table>\n",
       "<p>113 rows × 5 columns</p>\n",
       "</div>"
      ],
      "text/plain": [
       "    listen_date  track_genre  listen_count  popularity_index  average_duration\n",
       "0    2024-06-25     acoustic           118          0.010400        215.379034\n",
       "1    2024-06-25     afrobeat           124          0.010929        248.978960\n",
       "2    2024-06-25     alt-rock           119          0.010488        236.073731\n",
       "3    2024-06-25  alternative            45          0.003966        202.768200\n",
       "4    2024-06-25      ambient           119          0.010488        255.296067\n",
       "..          ...          ...           ...               ...               ...\n",
       "108  2024-06-25       techno            46          0.004054        296.812717\n",
       "109  2024-06-25       trance            97          0.008549        298.194134\n",
       "110  2024-06-25     trip-hop           122          0.010753        263.405664\n",
       "111  2024-06-25      turkish           112          0.009871        223.225420\n",
       "112  2024-06-25  world-music           104          0.009166        284.155029\n",
       "\n",
       "[113 rows x 5 columns]"
      ]
     },
     "execution_count": 76,
     "metadata": {},
     "output_type": "execute_result"
    }
   ],
   "source": [
    "# Combine all KPIs into one DataFrame\n",
    "final_kpis = genre_listen_count[['listen_date','track_genre','listen_count','popularity_index']]\n",
    "final_kpis = final_kpis.merge(avg_duration, on =  ['listen_date','track_genre'])\n",
    "final_kpis.merge(most_popular_track, on "
   ]
  },
  {
   "cell_type": "code",
   "execution_count": null,
   "id": "3c76f09f-a7d7-43a6-ab36-2faeba176105",
   "metadata": {},
   "outputs": [],
   "source": []
  }
 ],
 "metadata": {
  "kernelspec": {
   "display_name": "Python 3 (ipykernel)",
   "language": "python",
   "name": "python3"
  },
  "language_info": {
   "codemirror_mode": {
    "name": "ipython",
    "version": 3
   },
   "file_extension": ".py",
   "mimetype": "text/x-python",
   "name": "python",
   "nbconvert_exporter": "python",
   "pygments_lexer": "ipython3",
   "version": "3.11.9"
  }
 },
 "nbformat": 4,
 "nbformat_minor": 5
}
